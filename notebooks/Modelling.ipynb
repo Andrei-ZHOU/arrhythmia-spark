{
 "cells": [
  {
   "attachments": {},
   "cell_type": "markdown",
   "metadata": {},
   "source": [
    "# Data Loading and Preprocessing"
   ]
  },
  {
   "cell_type": "code",
   "execution_count": 1,
   "metadata": {},
   "outputs": [],
   "source": [
    "import pandas as pd\n",
    "import numpy as np\n",
    "import json\n",
    "import string\n",
    "from typing import Union\n",
    "import scipy.stats as st\n",
    "from sklearn.preprocessing import OneHotEncoder\n",
    "import matplotlib.pyplot as plt\n",
    "import plotly.express as px\n",
    "import warnings\n",
    "import plotly.graph_objs as go\n",
    "from sklearn.metrics import roc_auc_score, roc_curve, log_loss, recall_score\n",
    "from plotly.subplots import make_subplots\n"
   ]
  },
  {
   "cell_type": "code",
   "execution_count": 2,
   "metadata": {},
   "outputs": [],
   "source": [
    "# Helper functions to handle json\n",
    "\n",
    "def handle_nan_values(\n",
    "    data: pd.DataFrame, \n",
    "    cols_list: list,\n",
    "    drop_threshold: float = 0.5\n",
    ") -> pd.DataFrame:\n",
    "        total_rows = len(data)\n",
    "\n",
    "        for col in cols_list:\n",
    "            nan_count = data[col].isnull().sum()\n",
    "\n",
    "            if nan_count > drop_threshold * total_rows:\n",
    "                data = data.drop(col, axis=1)\n",
    "            else:\n",
    "                median_value = data[col].median()\n",
    "                data[col].fillna(median_value, inplace=True)\n",
    "\n",
    "        return data\n",
    "\n"
   ]
  },
  {
   "cell_type": "code",
   "execution_count": 3,
   "metadata": {},
   "outputs": [],
   "source": [
    "data = pd.read_csv(\"ML/data/arrhythmia.data\", header=None)\n",
    "column_names = [f\"feature_{i}\" for i in range(1, len(data.columns))]\n",
    "column_names.append(\"target\")\n",
    "data.columns = column_names"
   ]
  },
  {
   "cell_type": "code",
   "execution_count": 4,
   "metadata": {},
   "outputs": [],
   "source": [
    "data['target'] = np.where(data['target'] == 1, 0, 1)"
   ]
  },
  {
   "cell_type": "code",
   "execution_count": 5,
   "metadata": {},
   "outputs": [],
   "source": [
    "data = data.replace(\"?\", np.nan)\n",
    "string_cols = data.select_dtypes(\"object\").columns\n",
    "data[string_cols].astype(str).astype(float)\n",
    "data = handle_nan_values(data, string_cols)"
   ]
  },
  {
   "cell_type": "code",
   "execution_count": 6,
   "metadata": {},
   "outputs": [],
   "source": [
    "for col in string_cols:\n",
    "    if col in data.columns:\n",
    "        data[col] = data[col].astype(int)"
   ]
  },
  {
   "attachments": {},
   "cell_type": "markdown",
   "metadata": {},
   "source": [
    "## Modelling Data Prep\n",
    "Label generating logic: \n",
    "- if a candidate has made any application - 1\n",
    "- 0 Otherwise"
   ]
  },
  {
   "cell_type": "code",
   "execution_count": 7,
   "metadata": {},
   "outputs": [],
   "source": [
    "from sklearn.model_selection import train_test_split\n",
    "X = data.drop(['target'], axis=1)\n",
    "y = data.target\n",
    "\n",
    "X_train, X_test, y_train, y_test = train_test_split(X, y, test_size=0.1, random_state=42)\n",
    "X_train, X_val, y_train, y_val = train_test_split(X_train, y_train, test_size=0.1, random_state=666)"
   ]
  },
  {
   "attachments": {},
   "cell_type": "markdown",
   "metadata": {},
   "source": [
    "# Feature Selection"
   ]
  },
  {
   "cell_type": "code",
   "execution_count": 8,
   "metadata": {},
   "outputs": [],
   "source": [
    "# Set static hyperparameters\n",
    "sampling_rate = 1\n",
    "boosting_type = \"gbdt\"\n",
    "max_bin = 63 # Number of bins for discretization. Defaults to 63. Higher is more accurate, but slower."
   ]
  },
  {
   "cell_type": "code",
   "execution_count": null,
   "metadata": {},
   "outputs": [],
   "source": [
    "import optuna\n",
    "from sklearn.model_selection import train_test_split\n",
    "from sklearn.metrics import roc_auc_score\n",
    "from lightgbm import LGBMClassifier\n",
    "\n",
    "# Define the objective function\n",
    "def objective(trial):\n",
    "    # Define the search space for hyperparameters\n",
    "    n_estimators = trial.suggest_int('n_estimator', 3, 500)\n",
    "    learning_rate = trial.suggest_float('learning_rate', 0.001, 0.3)\n",
    "    num_leaves=trial.suggest_int('num_leaves', 20, 300)\n",
    "    feature_fraction=trial.suggest_float('feature_fraction', 0.2, 1.0)\n",
    "    max_depth = trial.suggest_int('max_depth', 3, 24)\n",
    "    min_data_in_leaf = trial.suggest_int('min_data_in_leaf', 4, 500)\n",
    "    min_gain_to_split= trial.suggest_int('min_gain_to_split', 0, 15)\n",
    "    min_samples_split = trial.suggest_int('min_samples_split', 2, 10) \n",
    "    class_weight = trial.suggest_categorical('class_weight', [None, \"balanced\"]) \n",
    "    \n",
    "    # Create a Random Forest Classifier with the given hyperparameters\n",
    "    model = LGBMClassifier(\n",
    "        n_estimators=n_estimators,\n",
    "        boosting_type=boosting_type, \n",
    "        sampling_rate=sampling_rate,\n",
    "        max_depth=max_depth, \n",
    "        max_bin=max_bin,\n",
    "        learning_rate=learning_rate,\n",
    "        num_leaves=num_leaves,\n",
    "        feature_fraction=feature_fraction,\n",
    "        min_data_in_leaf=min_data_in_leaf,\n",
    "        min_gain_to_split=min_gain_to_split,\n",
    "        min_samples_split=min_samples_split,\n",
    "        class_weight=class_weight\n",
    "        )\n",
    "    \n",
    "    # Train the model on the training data\n",
    "    model.fit(X=X_train, y=y_train,)\n",
    "    \n",
    "    # Evaluate the model on the validation data\n",
    "    y_pred = model.predict(X_val)\n",
    "    score = recall_score(y_val, y_pred)\n",
    "    \n",
    "    return score\n",
    "\n",
    "# Split the data into training and validation sets\n",
    "\n",
    "# Create a study object and optimize the hyperparameters\n",
    "study = optuna.create_study(direction='maximize',)\n",
    "study.optimize(objective, n_trials=200)\n",
    "\n",
    "# Print the best hyperparameters and score\n",
    "best_params = study.best_params\n",
    "best_score = study.best_value\n",
    "print(f\"Best hyperparameters: {best_params}\")\n",
    "print(f\"Best score: {best_score}\")"
   ]
  },
  {
   "cell_type": "code",
   "execution_count": null,
   "metadata": {},
   "outputs": [],
   "source": [
    "from BorutaShap import BorutaShap\n",
    "\n",
    "model = LGBMClassifier(        \n",
    "        n_estimators=best_params['n_estimator'],\n",
    "        sampling_rate=sampling_rate,\n",
    "        max_bin=max_bin,\n",
    "        learning_rate=best_params['learning_rate'],\n",
    "        num_leaves=best_params['num_leaves'],\n",
    "        feature_fraction=best_params['feature_fraction'],\n",
    "        max_depth=best_params['max_depth'],\n",
    "        min_data_in_leaf=best_params['min_data_in_leaf'],\n",
    "        min_gain_to_split=best_params['min_gain_to_split'],\n",
    "        min_samples_split=best_params['min_samples_split'],\n",
    "        class_weight=best_params['class_weight']\n",
    "        )\n",
    "\n",
    "Feature_Selector = BorutaShap(model=model,\n",
    "                              importance_measure='shap',\n",
    "                              classification=True,\n",
    "                              pvalue=0.1\n",
    "                            )\n",
    "\n",
    "Feature_Selector.fit(\n",
    "    X=X_train, \n",
    "    y=y_train, \n",
    "    n_trials=100, \n",
    "    sample=False,\n",
    "    train_or_test = 'test', \n",
    "    normalize=True,\n",
    "    verbose=False)"
   ]
  },
  {
   "cell_type": "code",
   "execution_count": 11,
   "metadata": {},
   "outputs": [
    {
     "data": {
      "text/plain": [
       "array(['feature_5', 'feature_15', 'feature_53', 'feature_76',\n",
       "       'feature_90', 'feature_91', 'feature_93', 'feature_102',\n",
       "       'feature_163', 'feature_167', 'feature_169', 'feature_179',\n",
       "       'feature_181', 'feature_199', 'feature_207', 'feature_224',\n",
       "       'feature_233', 'feature_239', 'feature_240', 'feature_249',\n",
       "       'feature_250', 'feature_277', 'feature_279'], dtype=object)"
      ]
     },
     "execution_count": 11,
     "metadata": {},
     "output_type": "execute_result"
    }
   ],
   "source": [
    "Feature_Selector.columns"
   ]
  },
  {
   "cell_type": "code",
   "execution_count": 12,
   "metadata": {},
   "outputs": [],
   "source": [
    "# Only use selected features\n",
    "X_train = X_train[Feature_Selector.columns]\n",
    "X_val = X_val[Feature_Selector.columns]\n",
    "X_test = X_test[Feature_Selector.columns]"
   ]
  },
  {
   "attachments": {},
   "cell_type": "markdown",
   "metadata": {},
   "source": [
    "# Hyperparameter Tuning and Final Model Building"
   ]
  },
  {
   "cell_type": "code",
   "execution_count": null,
   "metadata": {},
   "outputs": [],
   "source": [
    "# Create a study object and optimize the hyperparameters\n",
    "study = optuna.create_study(direction='maximize',)\n",
    "study.optimize(objective, n_trials=500)\n",
    "\n",
    "# Print the best hyperparameters and score\n",
    "best_params = study.best_params\n",
    "best_score = study.best_value\n",
    "print(f\"Best hyperparameters: {best_params}\")\n",
    "print(f\"Best score: {best_score}\")\n",
    "\n"
   ]
  },
  {
   "cell_type": "code",
   "execution_count": 16,
   "metadata": {},
   "outputs": [
    {
     "name": "stdout",
     "output_type": "stream",
     "text": [
      "[LightGBM] [Warning] Unknown parameter: min_samples_split\n",
      "[LightGBM] [Warning] Unknown parameter: sampling_rate\n",
      "[LightGBM] [Warning] min_data_in_leaf is set=32, min_child_samples=20 will be ignored. Current value: min_data_in_leaf=32\n",
      "[LightGBM] [Warning] min_gain_to_split is set=6, min_split_gain=0.0 will be ignored. Current value: min_gain_to_split=6\n",
      "[LightGBM] [Warning] feature_fraction is set=0.4902584167923877, colsample_bytree=1.0 will be ignored. Current value: feature_fraction=0.4902584167923877\n"
     ]
    }
   ],
   "source": [
    "from sklearn.metrics import confusion_matrix\n",
    "\n",
    "# Define the objective function\n",
    "def objective(trial):\n",
    "    # Define the search space for hyperparameters\n",
    "    n_estimators = trial.suggest_int('n_estimator', 3, 500)\n",
    "    learning_rate = trial.suggest_float('learning_rate', 0.001, 0.3)\n",
    "    num_leaves=trial.suggest_int('num_leaves', 20, 300)\n",
    "    feature_fraction=trial.suggest_float('feature_fraction', 0.2, 1.0)\n",
    "    max_depth = trial.suggest_int('max_depth', 3, 24)\n",
    "    min_data_in_leaf = trial.suggest_int('min_data_in_leaf', 4, 500)\n",
    "    min_gain_to_split= trial.suggest_int('min_gain_to_split', 0, 15)\n",
    "    min_samples_split = trial.suggest_int('min_samples_split', 2, 10) \n",
    "    class_weight = trial.suggest_categorical('class_weight', [None, \"balanced\"]) \n",
    "    \n",
    "    # Create a Random Forest Classifier with the given hyperparameters\n",
    "    model = LGBMClassifier(\n",
    "        n_estimators=n_estimators,\n",
    "        boosting_type=boosting_type, \n",
    "        sampling_rate=sampling_rate,\n",
    "        max_depth=max_depth, \n",
    "        max_bin=max_bin,\n",
    "        learning_rate=learning_rate,\n",
    "        num_leaves=num_leaves,\n",
    "        feature_fraction=feature_fraction,\n",
    "        min_data_in_leaf=min_data_in_leaf,\n",
    "        min_gain_to_split=min_gain_to_split,\n",
    "        min_samples_split=min_samples_split,\n",
    "        class_weight=class_weight\n",
    "        )\n",
    "    \n",
    "    # Train the model on the training data\n",
    "    model.fit(X=X_train, y=y_train,)\n",
    "    \n",
    "    # Evaluate the model on the validation data\n",
    "    y_pred = model.predict(X_val)\n",
    "    val_score = recall_score(y_val, y_pred)\n",
    "    y_pred = model.predict(X_train)\n",
    "    train_score = recall_score(y_train, y_pred)\n",
    "    score = val_score - np.abs(train_score-val_score)\n",
    "    return score\n",
    "\n",
    "model = LGBMClassifier(        \n",
    "        n_estimators=best_params['n_estimator'],\n",
    "        sampling_rate=sampling_rate,\n",
    "        max_bin=max_bin,\n",
    "        learning_rate=best_params['learning_rate'],\n",
    "        num_leaves=best_params['num_leaves'],\n",
    "        feature_fraction=best_params['feature_fraction'],\n",
    "        max_depth=best_params['max_depth'],\n",
    "        min_data_in_leaf=best_params['min_data_in_leaf'],\n",
    "        min_gain_to_split=best_params['min_gain_to_split'],\n",
    "        min_samples_split=best_params['min_samples_split'],\n",
    "        class_weight=best_params['class_weight']\n",
    "        )\n",
    "model.fit(X_train, y_train)\n",
    "y_pred_prob = model.predict_proba(X_test)"
   ]
  },
  {
   "attachments": {},
   "cell_type": "markdown",
   "metadata": {},
   "source": [
    "# Diagnostics"
   ]
  },
  {
   "cell_type": "code",
   "execution_count": 36,
   "metadata": {},
   "outputs": [],
   "source": [
    "import sklearn.metrics as m"
   ]
  },
  {
   "cell_type": "code",
   "execution_count": 17,
   "metadata": {},
   "outputs": [
    {
     "data": {
      "application/vnd.plotly.v1+json": {
       "config": {
        "plotlyServerURL": "https://plot.ly"
       },
       "data": [
        {
         "name": "Training set",
         "type": "scatter",
         "x": [
          0,
          0.11,
          1
         ],
         "y": [
          0,
          0.896969696969697,
          1
         ]
        },
        {
         "name": "Validation set",
         "type": "scatter",
         "x": [
          0,
          0.12,
          1
         ],
         "y": [
          0,
          0.9375,
          1
         ]
        },
        {
         "name": "Testing set",
         "type": "scatter",
         "x": [
          0,
          0.15,
          1
         ],
         "y": [
          0,
          0.7307692307692307,
          1
         ]
        },
        {
         "line": {
          "dash": "dash"
         },
         "name": "Random guessing",
         "type": "scatter",
         "x": [
          0,
          1
         ],
         "y": [
          0,
          1
         ]
        }
       ],
       "layout": {
        "annotations": [
         {
          "showarrow": false,
          "text": "Training set: 0.89<br>Validation set: 0.91<br>Testing set: 0.79",
          "x": 0.99,
          "y": 0.95
         }
        ],
        "legend": {
         "title": {
          "text": "Scores"
         },
         "x": 0.01,
         "xanchor": "left",
         "y": 0.99,
         "yanchor": "top"
        },
        "template": {
         "data": {
          "bar": [
           {
            "error_x": {
             "color": "#2a3f5f"
            },
            "error_y": {
             "color": "#2a3f5f"
            },
            "marker": {
             "line": {
              "color": "#E5ECF6",
              "width": 0.5
             },
             "pattern": {
              "fillmode": "overlay",
              "size": 10,
              "solidity": 0.2
             }
            },
            "type": "bar"
           }
          ],
          "barpolar": [
           {
            "marker": {
             "line": {
              "color": "#E5ECF6",
              "width": 0.5
             },
             "pattern": {
              "fillmode": "overlay",
              "size": 10,
              "solidity": 0.2
             }
            },
            "type": "barpolar"
           }
          ],
          "carpet": [
           {
            "aaxis": {
             "endlinecolor": "#2a3f5f",
             "gridcolor": "white",
             "linecolor": "white",
             "minorgridcolor": "white",
             "startlinecolor": "#2a3f5f"
            },
            "baxis": {
             "endlinecolor": "#2a3f5f",
             "gridcolor": "white",
             "linecolor": "white",
             "minorgridcolor": "white",
             "startlinecolor": "#2a3f5f"
            },
            "type": "carpet"
           }
          ],
          "choropleth": [
           {
            "colorbar": {
             "outlinewidth": 0,
             "ticks": ""
            },
            "type": "choropleth"
           }
          ],
          "contour": [
           {
            "colorbar": {
             "outlinewidth": 0,
             "ticks": ""
            },
            "colorscale": [
             [
              0,
              "#0d0887"
             ],
             [
              0.1111111111111111,
              "#46039f"
             ],
             [
              0.2222222222222222,
              "#7201a8"
             ],
             [
              0.3333333333333333,
              "#9c179e"
             ],
             [
              0.4444444444444444,
              "#bd3786"
             ],
             [
              0.5555555555555556,
              "#d8576b"
             ],
             [
              0.6666666666666666,
              "#ed7953"
             ],
             [
              0.7777777777777778,
              "#fb9f3a"
             ],
             [
              0.8888888888888888,
              "#fdca26"
             ],
             [
              1,
              "#f0f921"
             ]
            ],
            "type": "contour"
           }
          ],
          "contourcarpet": [
           {
            "colorbar": {
             "outlinewidth": 0,
             "ticks": ""
            },
            "type": "contourcarpet"
           }
          ],
          "heatmap": [
           {
            "colorbar": {
             "outlinewidth": 0,
             "ticks": ""
            },
            "colorscale": [
             [
              0,
              "#0d0887"
             ],
             [
              0.1111111111111111,
              "#46039f"
             ],
             [
              0.2222222222222222,
              "#7201a8"
             ],
             [
              0.3333333333333333,
              "#9c179e"
             ],
             [
              0.4444444444444444,
              "#bd3786"
             ],
             [
              0.5555555555555556,
              "#d8576b"
             ],
             [
              0.6666666666666666,
              "#ed7953"
             ],
             [
              0.7777777777777778,
              "#fb9f3a"
             ],
             [
              0.8888888888888888,
              "#fdca26"
             ],
             [
              1,
              "#f0f921"
             ]
            ],
            "type": "heatmap"
           }
          ],
          "heatmapgl": [
           {
            "colorbar": {
             "outlinewidth": 0,
             "ticks": ""
            },
            "colorscale": [
             [
              0,
              "#0d0887"
             ],
             [
              0.1111111111111111,
              "#46039f"
             ],
             [
              0.2222222222222222,
              "#7201a8"
             ],
             [
              0.3333333333333333,
              "#9c179e"
             ],
             [
              0.4444444444444444,
              "#bd3786"
             ],
             [
              0.5555555555555556,
              "#d8576b"
             ],
             [
              0.6666666666666666,
              "#ed7953"
             ],
             [
              0.7777777777777778,
              "#fb9f3a"
             ],
             [
              0.8888888888888888,
              "#fdca26"
             ],
             [
              1,
              "#f0f921"
             ]
            ],
            "type": "heatmapgl"
           }
          ],
          "histogram": [
           {
            "marker": {
             "pattern": {
              "fillmode": "overlay",
              "size": 10,
              "solidity": 0.2
             }
            },
            "type": "histogram"
           }
          ],
          "histogram2d": [
           {
            "colorbar": {
             "outlinewidth": 0,
             "ticks": ""
            },
            "colorscale": [
             [
              0,
              "#0d0887"
             ],
             [
              0.1111111111111111,
              "#46039f"
             ],
             [
              0.2222222222222222,
              "#7201a8"
             ],
             [
              0.3333333333333333,
              "#9c179e"
             ],
             [
              0.4444444444444444,
              "#bd3786"
             ],
             [
              0.5555555555555556,
              "#d8576b"
             ],
             [
              0.6666666666666666,
              "#ed7953"
             ],
             [
              0.7777777777777778,
              "#fb9f3a"
             ],
             [
              0.8888888888888888,
              "#fdca26"
             ],
             [
              1,
              "#f0f921"
             ]
            ],
            "type": "histogram2d"
           }
          ],
          "histogram2dcontour": [
           {
            "colorbar": {
             "outlinewidth": 0,
             "ticks": ""
            },
            "colorscale": [
             [
              0,
              "#0d0887"
             ],
             [
              0.1111111111111111,
              "#46039f"
             ],
             [
              0.2222222222222222,
              "#7201a8"
             ],
             [
              0.3333333333333333,
              "#9c179e"
             ],
             [
              0.4444444444444444,
              "#bd3786"
             ],
             [
              0.5555555555555556,
              "#d8576b"
             ],
             [
              0.6666666666666666,
              "#ed7953"
             ],
             [
              0.7777777777777778,
              "#fb9f3a"
             ],
             [
              0.8888888888888888,
              "#fdca26"
             ],
             [
              1,
              "#f0f921"
             ]
            ],
            "type": "histogram2dcontour"
           }
          ],
          "mesh3d": [
           {
            "colorbar": {
             "outlinewidth": 0,
             "ticks": ""
            },
            "type": "mesh3d"
           }
          ],
          "parcoords": [
           {
            "line": {
             "colorbar": {
              "outlinewidth": 0,
              "ticks": ""
             }
            },
            "type": "parcoords"
           }
          ],
          "pie": [
           {
            "automargin": true,
            "type": "pie"
           }
          ],
          "scatter": [
           {
            "fillpattern": {
             "fillmode": "overlay",
             "size": 10,
             "solidity": 0.2
            },
            "type": "scatter"
           }
          ],
          "scatter3d": [
           {
            "line": {
             "colorbar": {
              "outlinewidth": 0,
              "ticks": ""
             }
            },
            "marker": {
             "colorbar": {
              "outlinewidth": 0,
              "ticks": ""
             }
            },
            "type": "scatter3d"
           }
          ],
          "scattercarpet": [
           {
            "marker": {
             "colorbar": {
              "outlinewidth": 0,
              "ticks": ""
             }
            },
            "type": "scattercarpet"
           }
          ],
          "scattergeo": [
           {
            "marker": {
             "colorbar": {
              "outlinewidth": 0,
              "ticks": ""
             }
            },
            "type": "scattergeo"
           }
          ],
          "scattergl": [
           {
            "marker": {
             "colorbar": {
              "outlinewidth": 0,
              "ticks": ""
             }
            },
            "type": "scattergl"
           }
          ],
          "scattermapbox": [
           {
            "marker": {
             "colorbar": {
              "outlinewidth": 0,
              "ticks": ""
             }
            },
            "type": "scattermapbox"
           }
          ],
          "scatterpolar": [
           {
            "marker": {
             "colorbar": {
              "outlinewidth": 0,
              "ticks": ""
             }
            },
            "type": "scatterpolar"
           }
          ],
          "scatterpolargl": [
           {
            "marker": {
             "colorbar": {
              "outlinewidth": 0,
              "ticks": ""
             }
            },
            "type": "scatterpolargl"
           }
          ],
          "scatterternary": [
           {
            "marker": {
             "colorbar": {
              "outlinewidth": 0,
              "ticks": ""
             }
            },
            "type": "scatterternary"
           }
          ],
          "surface": [
           {
            "colorbar": {
             "outlinewidth": 0,
             "ticks": ""
            },
            "colorscale": [
             [
              0,
              "#0d0887"
             ],
             [
              0.1111111111111111,
              "#46039f"
             ],
             [
              0.2222222222222222,
              "#7201a8"
             ],
             [
              0.3333333333333333,
              "#9c179e"
             ],
             [
              0.4444444444444444,
              "#bd3786"
             ],
             [
              0.5555555555555556,
              "#d8576b"
             ],
             [
              0.6666666666666666,
              "#ed7953"
             ],
             [
              0.7777777777777778,
              "#fb9f3a"
             ],
             [
              0.8888888888888888,
              "#fdca26"
             ],
             [
              1,
              "#f0f921"
             ]
            ],
            "type": "surface"
           }
          ],
          "table": [
           {
            "cells": {
             "fill": {
              "color": "#EBF0F8"
             },
             "line": {
              "color": "white"
             }
            },
            "header": {
             "fill": {
              "color": "#C8D4E3"
             },
             "line": {
              "color": "white"
             }
            },
            "type": "table"
           }
          ]
         },
         "layout": {
          "annotationdefaults": {
           "arrowcolor": "#2a3f5f",
           "arrowhead": 0,
           "arrowwidth": 1
          },
          "autotypenumbers": "strict",
          "coloraxis": {
           "colorbar": {
            "outlinewidth": 0,
            "ticks": ""
           }
          },
          "colorscale": {
           "diverging": [
            [
             0,
             "#8e0152"
            ],
            [
             0.1,
             "#c51b7d"
            ],
            [
             0.2,
             "#de77ae"
            ],
            [
             0.3,
             "#f1b6da"
            ],
            [
             0.4,
             "#fde0ef"
            ],
            [
             0.5,
             "#f7f7f7"
            ],
            [
             0.6,
             "#e6f5d0"
            ],
            [
             0.7,
             "#b8e186"
            ],
            [
             0.8,
             "#7fbc41"
            ],
            [
             0.9,
             "#4d9221"
            ],
            [
             1,
             "#276419"
            ]
           ],
           "sequential": [
            [
             0,
             "#0d0887"
            ],
            [
             0.1111111111111111,
             "#46039f"
            ],
            [
             0.2222222222222222,
             "#7201a8"
            ],
            [
             0.3333333333333333,
             "#9c179e"
            ],
            [
             0.4444444444444444,
             "#bd3786"
            ],
            [
             0.5555555555555556,
             "#d8576b"
            ],
            [
             0.6666666666666666,
             "#ed7953"
            ],
            [
             0.7777777777777778,
             "#fb9f3a"
            ],
            [
             0.8888888888888888,
             "#fdca26"
            ],
            [
             1,
             "#f0f921"
            ]
           ],
           "sequentialminus": [
            [
             0,
             "#0d0887"
            ],
            [
             0.1111111111111111,
             "#46039f"
            ],
            [
             0.2222222222222222,
             "#7201a8"
            ],
            [
             0.3333333333333333,
             "#9c179e"
            ],
            [
             0.4444444444444444,
             "#bd3786"
            ],
            [
             0.5555555555555556,
             "#d8576b"
            ],
            [
             0.6666666666666666,
             "#ed7953"
            ],
            [
             0.7777777777777778,
             "#fb9f3a"
            ],
            [
             0.8888888888888888,
             "#fdca26"
            ],
            [
             1,
             "#f0f921"
            ]
           ]
          },
          "colorway": [
           "#636efa",
           "#EF553B",
           "#00cc96",
           "#ab63fa",
           "#FFA15A",
           "#19d3f3",
           "#FF6692",
           "#B6E880",
           "#FF97FF",
           "#FECB52"
          ],
          "font": {
           "color": "#2a3f5f"
          },
          "geo": {
           "bgcolor": "white",
           "lakecolor": "white",
           "landcolor": "#E5ECF6",
           "showlakes": true,
           "showland": true,
           "subunitcolor": "white"
          },
          "hoverlabel": {
           "align": "left"
          },
          "hovermode": "closest",
          "mapbox": {
           "style": "light"
          },
          "paper_bgcolor": "white",
          "plot_bgcolor": "#E5ECF6",
          "polar": {
           "angularaxis": {
            "gridcolor": "white",
            "linecolor": "white",
            "ticks": ""
           },
           "bgcolor": "#E5ECF6",
           "radialaxis": {
            "gridcolor": "white",
            "linecolor": "white",
            "ticks": ""
           }
          },
          "scene": {
           "xaxis": {
            "backgroundcolor": "#E5ECF6",
            "gridcolor": "white",
            "gridwidth": 2,
            "linecolor": "white",
            "showbackground": true,
            "ticks": "",
            "zerolinecolor": "white"
           },
           "yaxis": {
            "backgroundcolor": "#E5ECF6",
            "gridcolor": "white",
            "gridwidth": 2,
            "linecolor": "white",
            "showbackground": true,
            "ticks": "",
            "zerolinecolor": "white"
           },
           "zaxis": {
            "backgroundcolor": "#E5ECF6",
            "gridcolor": "white",
            "gridwidth": 2,
            "linecolor": "white",
            "showbackground": true,
            "ticks": "",
            "zerolinecolor": "white"
           }
          },
          "shapedefaults": {
           "line": {
            "color": "#2a3f5f"
           }
          },
          "ternary": {
           "aaxis": {
            "gridcolor": "white",
            "linecolor": "white",
            "ticks": ""
           },
           "baxis": {
            "gridcolor": "white",
            "linecolor": "white",
            "ticks": ""
           },
           "bgcolor": "#E5ECF6",
           "caxis": {
            "gridcolor": "white",
            "linecolor": "white",
            "ticks": ""
           }
          },
          "title": {
           "x": 0.05
          },
          "xaxis": {
           "automargin": true,
           "gridcolor": "white",
           "linecolor": "white",
           "ticks": "",
           "title": {
            "standoff": 15
           },
           "zerolinecolor": "white",
           "zerolinewidth": 2
          },
          "yaxis": {
           "automargin": true,
           "gridcolor": "white",
           "linecolor": "white",
           "ticks": "",
           "title": {
            "standoff": 15
           },
           "zerolinecolor": "white",
           "zerolinewidth": 2
          }
         }
        },
        "title": {
         "text": "ROC-AUC curve"
        },
        "xaxis": {
         "title": {
          "text": "False Positive Rate"
         }
        },
        "yaxis": {
         "title": {
          "text": "True Positive Rate"
         }
        }
       }
      }
     },
     "metadata": {},
     "output_type": "display_data"
    }
   ],
   "source": [
    "y_train_pred = model.predict(X_train)\n",
    "y_val_pred = model.predict(X_val)\n",
    "y_test_pred = model.predict(X_test)\n",
    "\n",
    "\n",
    "# calculate the ROC-AUC scores for each set\n",
    "train_score = roc_auc_score(y_train, y_train_pred)\n",
    "val_score = roc_auc_score(y_val, y_val_pred)\n",
    "test_score = roc_auc_score(y_test, y_test_pred)\n",
    "\n",
    "# calculate the ROC curves for each set\n",
    "train_fpr, train_tpr, _ = roc_curve(y_train, y_train_pred)\n",
    "val_fpr, val_tpr, _ = roc_curve(y_val, y_val_pred)\n",
    "test_fpr, test_tpr, _ = roc_curve(y_test, y_test_pred)\n",
    "\n",
    "# create a Plotly figure\n",
    "fig = go.Figure()\n",
    "\n",
    "# add the ROC curves for each set\n",
    "fig.add_trace(go.Scatter(x=train_fpr, y=train_tpr, name='Training set'))\n",
    "fig.add_trace(go.Scatter(x=val_fpr, y=val_tpr, name='Validation set'))\n",
    "fig.add_trace(go.Scatter(x=test_fpr, y=test_tpr, name='Testing set'))\n",
    "\n",
    "# add the diagonal line (representing random guessing)\n",
    "fig.add_trace(go.Scatter(x=[0, 1], y=[0, 1], name='Random guessing', line=dict(dash='dash')))\n",
    "\n",
    "# set the axis labels and title\n",
    "fig.update_layout(\n",
    "    title='ROC-AUC curve',\n",
    "    xaxis_title='False Positive Rate',\n",
    "    yaxis_title='True Positive Rate'\n",
    ")\n",
    "\n",
    "# add the ROC-AUC scores to the legend\n",
    "fig.update_layout(\n",
    "    legend=dict(\n",
    "        yanchor=\"top\",\n",
    "        y=0.99,\n",
    "        xanchor=\"left\",\n",
    "        x=0.01,\n",
    "        title=dict(text='Scores')\n",
    "    )\n",
    ")\n",
    "fig.add_annotation(\n",
    "    x=0.99, y=0.95, showarrow=False,\n",
    "    text='Training set: {:.2f}<br>Validation set: {:.2f}<br>Testing set: {:.2f}'.format(train_score, val_score, test_score))\n",
    "\n",
    "# show the figure\n",
    "fig.show()"
   ]
  },
  {
   "cell_type": "code",
   "execution_count": 19,
   "metadata": {},
   "outputs": [
    {
     "data": {
      "image/png": "[encoded data removed]",
      "text/plain": [
       "<Figure size 800x450 with 3 Axes>"
      ]
     },
     "metadata": {},
     "output_type": "display_data"
    }
   ],
   "source": [
    "from shap import TreeExplainer, Explanation\n",
    "from shap.plots import waterfall, beeswarm\n",
    "\n",
    "explainer = TreeExplainer(model)\n",
    "sv = explainer(X_test)\n",
    "exp = Explanation(sv.values[:,:,1], \n",
    "                  sv.base_values[:,1], \n",
    "                  data=X_test.values, \n",
    "                  feature_names=X_test.columns)\n",
    "idx = np.argmax( [y[1] for y in y_pred_prob])\n",
    "waterfall(exp[idx], max_display=6)"
   ]
  },
  {
   "cell_type": "code",
   "execution_count": 21,
   "metadata": {},
   "outputs": [
    {
     "data": {
      "image/png": "[encoded data removed]",
      "text/plain": [
       "<Figure size 500x300 with 2 Axes>"
      ]
     },
     "metadata": {},
     "output_type": "display_data"
    }
   ],
   "source": [
    "beeswarm(exp, plot_size=(5,3), max_display=8)"
   ]
  },
  {
   "cell_type": "code",
   "execution_count": 22,
   "metadata": {},
   "outputs": [],
   "source": [
    "def wtdQuantile(df, n=10):\n",
    "    var = 'pred'\n",
    "    weight = 'sample_weight'\n",
    "    if df[weight].unique()[0] == 1:\n",
    "        quantiles = pd.qcut(df[var], n, labels=False, duplicates='drop')\n",
    "        if quantiles.nunique() < n:\n",
    "            # Occasionally if there are too many ties, we won't end up with 10 quantiles... this will break those ties in a sensible way.\n",
    "            quantiles = pd.qcut(df[var].rank(method='first'), n, labels=False, duplicates='drop')\n",
    "        return quantiles\n",
    "    else:\n",
    "        df = df.sort_values(var, ascending=True)\n",
    "        cum_sum = df[weight].cumsum()\n",
    "        cutoff = max(cum_sum) / n\n",
    "        quantile = cum_sum / cutoff\n",
    "        quantile[-1:] -= 1\n",
    "        return quantile.map(int)\n",
    "\n",
    "def calc_lift(y_true, y_pred, sample_weight, bins=10):\n",
    "    df = pd.DataFrame(list(zip(y_true, y_pred, sample_weight)), columns = ['target','pred','sample_weight'])\n",
    "    def cal_weight_avg(df):\n",
    "        return (df['target'] * df.sample_weight).sum() / df.sample_weight.sum()\n",
    "    natural_mean = cal_weight_avg(df)\n",
    "    idx_positive_prob = 1\n",
    "    df['bin'] = bins - wtdQuantile(df, n=bins)\n",
    "    rdf = df.groupby('bin').apply(cal_weight_avg).reset_index()\n",
    "    rdf.columns = ['bin', 'target']\n",
    "    lift_positive = rdf.reset_index().sort_values('bin').target.values\n",
    "    lift_index_positive = lift_positive / natural_mean\n",
    "    # Reset the index again and calculate the averages\n",
    "    def cal_avg(df):\n",
    "        return df['target'].sum()\n",
    "    rdf2 = df.groupby('bin').apply(cal_avg).reset_index()\n",
    "    rdf2.columns = ['bin', 'target_cnt']  \n",
    "    gain_pos_cnt = rdf2.reset_index().sort_values('bin').target_cnt.values\n",
    "    gain_pos_cnt = gain_pos_cnt / gain_pos_cnt.sum()\n",
    "    gain = np.cumsum(gain_pos_cnt)\n",
    "    \n",
    "    # Add the last decile values for the last bin\n",
    "    gain = np.insert(gain, 0, 0)\n",
    "    lift_positive = np.append(lift_positive, 0)\n",
    "    lift_index_positive = np.append(lift_index_positive, 0)\n",
    "    \n",
    "    # Consolidate Results into Output Dataframe\n",
    "    lift_df = {'baseline_percentage': natural_mean,\n",
    "               'lift_percentage': lift_positive.tolist(),\n",
    "               'baseline_index': idx_positive_prob,\n",
    "               'lift_index': lift_index_positive.tolist(),\n",
    "               'gain': gain.tolist()}\n",
    "    lift_df.update({'deciles': [k for k, i in enumerate(lift_index_positive)]})\n",
    "    return lift_df"
   ]
  },
  {
   "cell_type": "code",
   "execution_count": 23,
   "metadata": {},
   "outputs": [],
   "source": [
    "    def plot_lift_gain(lift_dict):\n",
    "        \"\"\"Plots the lift and gain curves\n",
    "\n",
    "        Args:\n",
    "            save_path (str, optional): If none, saves a PNG to the path. Defaults to None.\n",
    "        \"\"\"\n",
    "        m_lift = pd.DataFrame(lift_dict['Train'])\n",
    "        v_lift = pd.DataFrame(lift_dict['Val'])\n",
    "        h_lift = pd.DataFrame(lift_dict['Test'])\n",
    "        m_lift['random'] = 1\n",
    "\n",
    "        fig = make_subplots(rows=1, \n",
    "                            cols=2, \n",
    "                            subplot_titles=(\"Lift Curve\", \"Gain Curve\"))\n",
    "        # Lift traces\n",
    "        fig.add_trace(\n",
    "            go.Scatter(\n",
    "                x=m_lift['deciles'], \n",
    "                y=m_lift['lift_index'],\n",
    "                name='Training',\n",
    "                legendgroup='group1',\n",
    "                line=dict(color='#1f77b4', width=2)),\n",
    "                row=1, col=1,\n",
    "        )\n",
    "        fig.add_trace(\n",
    "            go.Scatter(\n",
    "                x=v_lift['deciles'], \n",
    "                y=v_lift['lift_index'],\n",
    "                name='Validation',\n",
    "                legendgroup='group2',\n",
    "                line=dict(color='#d62728', width=2)),\n",
    "                row=1, col=1\n",
    "        )\n",
    "        fig.add_trace(\n",
    "            go.Scatter(\n",
    "                x=h_lift['deciles'], \n",
    "                y=h_lift['lift_index'],\n",
    "                name='Holdout',\n",
    "                legendgroup='group3',\n",
    "                line=dict(color='#2ca02c', width=2)),\n",
    "                row=1, col=1\n",
    "        )\n",
    "        # Gain traces\n",
    "        fig.add_trace(\n",
    "            go.Scatter(\n",
    "                x=m_lift['deciles'], \n",
    "                y=m_lift['gain'],\n",
    "                name='Training',\n",
    "                legendgroup='group1',\n",
    "                showlegend=False,\n",
    "                line=dict(color='#d62728', width=2)),\n",
    "                row=1, col=2\n",
    "        )\n",
    "        fig.add_trace(\n",
    "            go.Scatter(\n",
    "                x=v_lift['deciles'], \n",
    "                y=v_lift['gain'],\n",
    "                name='Validation',\n",
    "                legendgroup='group2',\n",
    "                showlegend=False,\n",
    "                line=dict(color='#1f77b4', width=2)),\n",
    "                row=1, col=2\n",
    "        )\n",
    "        fig.add_trace(\n",
    "            go.Scatter(\n",
    "                x=h_lift['deciles'], \n",
    "                y=h_lift['gain'],\n",
    "                name='Holdout',\n",
    "                legendgroup='group3',\n",
    "                showlegend=False,\n",
    "                line=dict(color='#2ca02c', width=2)\n",
    "                ),\n",
    "                row=1, col=2\n",
    "        )\n",
    "\n",
    "        fig.add_shape(\n",
    "            type='line', line=dict(dash='dash'),\n",
    "            x0=0, x1=10, y0=1, y1=1,\n",
    "            row=1, col=1\n",
    "        )\n",
    "        fig.add_shape(\n",
    "            type='line', line=dict(dash='dash'),\n",
    "            x0=0, x1=10, y0=0, y1=1,\n",
    "            row=1, col=2\n",
    "        )\n",
    "\n",
    "        fig.update_layout(\n",
    "            width = 800, \n",
    "            height = 400, \n",
    "            title = 'Lift & Gain Chart', \n",
    "            hovermode=\"x unified\",\n",
    "            xaxis1 = dict(\n",
    "                tickmode = 'linear',\n",
    "                tick0 = 1,\n",
    "                dtick = 1),\n",
    "            xaxis2 = dict(\n",
    "                tickmode = 'linear',\n",
    "                tick0 = 1,\n",
    "                dtick = 1))\n",
    "        fig.update_xaxes(title_text = 'deciles')\n",
    "        fig.update_yaxes(title_text = \"Gain\", row=1, col=2)\n",
    "        fig.update_yaxes(title_text = \"Lift\", row=1, col=1)\n",
    "        fig.show()"
   ]
  },
  {
   "cell_type": "code",
   "execution_count": 24,
   "metadata": {},
   "outputs": [],
   "source": [
    "lift_dict = {}\n",
    "lift_dict['Train'] = calc_lift(y_train, y_train_pred, [1] * len(y_train))\n",
    "lift_dict['Val'] = calc_lift(y_val, y_val_pred, [1] * len(y_val))\n",
    "lift_dict['Test'] = calc_lift(y_test, y_test_pred, [1] * len(y_test))"
   ]
  },
  {
   "cell_type": "code",
   "execution_count": 25,
   "metadata": {},
   "outputs": [
    {
     "data": {
      "application/vnd.plotly.v1+json": {
       "config": {
        "plotlyServerURL": "https://plot.ly"
       },
       "data": [
        {
         "legendgroup": "group1",
         "line": {
          "color": "#1f77b4",
          "width": 2
         },
         "name": "Training",
         "type": "scatter",
         "x": [
          0,
          1,
          2,
          3,
          4,
          5,
          6,
          7,
          8,
          9,
          10
         ],
         "xaxis": "x",
         "y": [
          2.092547092547093,
          1.7819865319865322,
          1.8533988533988535,
          2.089225589225589,
          1.2904040404040407,
          0.23914823914823918,
          0.12289562289562289,
          0.059787059787059796,
          0.18434343434343434,
          0.29893529893529897,
          0
         ],
         "yaxis": "y"
        },
        {
         "legendgroup": "group2",
         "line": {
          "color": "#d62728",
          "width": 2
         },
         "name": "Validation",
         "type": "scatter",
         "x": [
          0,
          1,
          2,
          3,
          4,
          5,
          6,
          7,
          8,
          9,
          10
         ],
         "xaxis": "x",
         "y": [
          1.921875,
          1.921875,
          2.5625,
          2.5625,
          0.640625,
          0,
          0,
          0,
          0,
          0.5125,
          0
         ],
         "yaxis": "y"
        },
        {
         "legendgroup": "group3",
         "line": {
          "color": "#2ca02c",
          "width": 2
         },
         "name": "Holdout",
         "type": "scatter",
         "x": [
          0,
          1,
          2,
          3,
          4,
          5,
          6,
          7,
          8,
          9,
          10
         ],
         "xaxis": "x",
         "y": [
          1.7692307692307694,
          1.7692307692307694,
          1.4153846153846155,
          1.326923076923077,
          1.0615384615384615,
          0,
          0.35384615384615387,
          0.8846153846153847,
          0.35384615384615387,
          1.0615384615384615,
          0
         ],
         "yaxis": "y"
        },
        {
         "legendgroup": "group1",
         "line": {
          "color": "#d62728",
          "width": 2
         },
         "name": "Training",
         "showlegend": false,
         "type": "scatter",
         "x": [
          0,
          1,
          2,
          3,
          4,
          5,
          6,
          7,
          8,
          9,
          10
         ],
         "xaxis": "x2",
         "y": [
          0,
          0.21212121212121213,
          0.3878787878787879,
          0.5757575757575757,
          0.7818181818181817,
          0.909090909090909,
          0.9333333333333332,
          0.9454545454545453,
          0.9515151515151514,
          0.9696969696969696,
          0.9999999999999999
         ],
         "yaxis": "y2"
        },
        {
         "legendgroup": "group2",
         "line": {
          "color": "#1f77b4",
          "width": 2
         },
         "name": "Validation",
         "showlegend": false,
         "type": "scatter",
         "x": [
          0,
          1,
          2,
          3,
          4,
          5,
          6,
          7,
          8,
          9,
          10
         ],
         "xaxis": "x2",
         "y": [
          0,
          0.1875,
          0.375,
          0.625,
          0.875,
          0.9375,
          0.9375,
          0.9375,
          0.9375,
          0.9375,
          1
         ],
         "yaxis": "y2"
        },
        {
         "legendgroup": "group3",
         "line": {
          "color": "#2ca02c",
          "width": 2
         },
         "name": "Holdout",
         "showlegend": false,
         "type": "scatter",
         "x": [
          0,
          1,
          2,
          3,
          4,
          5,
          6,
          7,
          8,
          9,
          10
         ],
         "xaxis": "x2",
         "y": [
          0,
          0.19230769230769232,
          0.34615384615384615,
          0.5,
          0.6153846153846154,
          0.7307692307692308,
          0.7307692307692308,
          0.7692307692307693,
          0.8461538461538463,
          0.8846153846153847,
          1
         ],
         "yaxis": "y2"
        }
       ],
       "layout": {
        "annotations": [
         {
          "font": {
           "size": 16
          },
          "showarrow": false,
          "text": "Lift Curve",
          "x": 0.225,
          "xanchor": "center",
          "xref": "paper",
          "y": 1,
          "yanchor": "bottom",
          "yref": "paper"
         },
         {
          "font": {
           "size": 16
          },
          "showarrow": false,
          "text": "Gain Curve",
          "x": 0.775,
          "xanchor": "center",
          "xref": "paper",
          "y": 1,
          "yanchor": "bottom",
          "yref": "paper"
         }
        ],
        "height": 400,
        "hovermode": "x unified",
        "shapes": [
         {
          "line": {
           "dash": "dash"
          },
          "type": "line",
          "x0": 0,
          "x1": 10,
          "xref": "x",
          "y0": 1,
          "y1": 1,
          "yref": "y"
         },
         {
          "line": {
           "dash": "dash"
          },
          "type": "line",
          "x0": 0,
          "x1": 10,
          "xref": "x2",
          "y0": 0,
          "y1": 1,
          "yref": "y2"
         }
        ],
        "template": {
         "data": {
          "bar": [
           {
            "error_x": {
             "color": "#2a3f5f"
            },
            "error_y": {
             "color": "#2a3f5f"
            },
            "marker": {
             "line": {
              "color": "#E5ECF6",
              "width": 0.5
             },
             "pattern": {
              "fillmode": "overlay",
              "size": 10,
              "solidity": 0.2
             }
            },
            "type": "bar"
           }
          ],
          "barpolar": [
           {
            "marker": {
             "line": {
              "color": "#E5ECF6",
              "width": 0.5
             },
             "pattern": {
              "fillmode": "overlay",
              "size": 10,
              "solidity": 0.2
             }
            },
            "type": "barpolar"
           }
          ],
          "carpet": [
           {
            "aaxis": {
             "endlinecolor": "#2a3f5f",
             "gridcolor": "white",
             "linecolor": "white",
             "minorgridcolor": "white",
             "startlinecolor": "#2a3f5f"
            },
            "baxis": {
             "endlinecolor": "#2a3f5f",
             "gridcolor": "white",
             "linecolor": "white",
             "minorgridcolor": "white",
             "startlinecolor": "#2a3f5f"
            },
            "type": "carpet"
           }
          ],
          "choropleth": [
           {
            "colorbar": {
             "outlinewidth": 0,
             "ticks": ""
            },
            "type": "choropleth"
           }
          ],
          "contour": [
           {
            "colorbar": {
             "outlinewidth": 0,
             "ticks": ""
            },
            "colorscale": [
             [
              0,
              "#0d0887"
             ],
             [
              0.1111111111111111,
              "#46039f"
             ],
             [
              0.2222222222222222,
              "#7201a8"
             ],
             [
              0.3333333333333333,
              "#9c179e"
             ],
             [
              0.4444444444444444,
              "#bd3786"
             ],
             [
              0.5555555555555556,
              "#d8576b"
             ],
             [
              0.6666666666666666,
              "#ed7953"
             ],
             [
              0.7777777777777778,
              "#fb9f3a"
             ],
             [
              0.8888888888888888,
              "#fdca26"
             ],
             [
              1,
              "#f0f921"
             ]
            ],
            "type": "contour"
           }
          ],
          "contourcarpet": [
           {
            "colorbar": {
             "outlinewidth": 0,
             "ticks": ""
            },
            "type": "contourcarpet"
           }
          ],
          "heatmap": [
           {
            "colorbar": {
             "outlinewidth": 0,
             "ticks": ""
            },
            "colorscale": [
             [
              0,
              "#0d0887"
             ],
             [
              0.1111111111111111,
              "#46039f"
             ],
             [
              0.2222222222222222,
              "#7201a8"
             ],
             [
              0.3333333333333333,
              "#9c179e"
             ],
             [
              0.4444444444444444,
              "#bd3786"
             ],
             [
              0.5555555555555556,
              "#d8576b"
             ],
             [
              0.6666666666666666,
              "#ed7953"
             ],
             [
              0.7777777777777778,
              "#fb9f3a"
             ],
             [
              0.8888888888888888,
              "#fdca26"
             ],
             [
              1,
              "#f0f921"
             ]
            ],
            "type": "heatmap"
           }
          ],
          "heatmapgl": [
           {
            "colorbar": {
             "outlinewidth": 0,
             "ticks": ""
            },
            "colorscale": [
             [
              0,
              "#0d0887"
             ],
             [
              0.1111111111111111,
              "#46039f"
             ],
             [
              0.2222222222222222,
              "#7201a8"
             ],
             [
              0.3333333333333333,
              "#9c179e"
             ],
             [
              0.4444444444444444,
              "#bd3786"
             ],
             [
              0.5555555555555556,
              "#d8576b"
             ],
             [
              0.6666666666666666,
              "#ed7953"
             ],
             [
              0.7777777777777778,
              "#fb9f3a"
             ],
             [
              0.8888888888888888,
              "#fdca26"
             ],
             [
              1,
              "#f0f921"
             ]
            ],
            "type": "heatmapgl"
           }
          ],
          "histogram": [
           {
            "marker": {
             "pattern": {
              "fillmode": "overlay",
              "size": 10,
              "solidity": 0.2
             }
            },
            "type": "histogram"
           }
          ],
          "histogram2d": [
           {
            "colorbar": {
             "outlinewidth": 0,
             "ticks": ""
            },
            "colorscale": [
             [
              0,
              "#0d0887"
             ],
             [
              0.1111111111111111,
              "#46039f"
             ],
             [
              0.2222222222222222,
              "#7201a8"
             ],
             [
              0.3333333333333333,
              "#9c179e"
             ],
             [
              0.4444444444444444,
              "#bd3786"
             ],
             [
              0.5555555555555556,
              "#d8576b"
             ],
             [
              0.6666666666666666,
              "#ed7953"
             ],
             [
              0.7777777777777778,
              "#fb9f3a"
             ],
             [
              0.8888888888888888,
              "#fdca26"
             ],
             [
              1,
              "#f0f921"
             ]
            ],
            "type": "histogram2d"
           }
          ],
          "histogram2dcontour": [
           {
            "colorbar": {
             "outlinewidth": 0,
             "ticks": ""
            },
            "colorscale": [
             [
              0,
              "#0d0887"
             ],
             [
              0.1111111111111111,
              "#46039f"
             ],
             [
              0.2222222222222222,
              "#7201a8"
             ],
             [
              0.3333333333333333,
              "#9c179e"
             ],
             [
              0.4444444444444444,
              "#bd3786"
             ],
             [
              0.5555555555555556,
              "#d8576b"
             ],
             [
              0.6666666666666666,
              "#ed7953"
             ],
             [
              0.7777777777777778,
              "#fb9f3a"
             ],
             [
              0.8888888888888888,
              "#fdca26"
             ],
             [
              1,
              "#f0f921"
             ]
            ],
            "type": "histogram2dcontour"
           }
          ],
          "mesh3d": [
           {
            "colorbar": {
             "outlinewidth": 0,
             "ticks": ""
            },
            "type": "mesh3d"
           }
          ],
          "parcoords": [
           {
            "line": {
             "colorbar": {
              "outlinewidth": 0,
              "ticks": ""
             }
            },
            "type": "parcoords"
           }
          ],
          "pie": [
           {
            "automargin": true,
            "type": "pie"
           }
          ],
          "scatter": [
           {
            "fillpattern": {
             "fillmode": "overlay",
             "size": 10,
             "solidity": 0.2
            },
            "type": "scatter"
           }
          ],
          "scatter3d": [
           {
            "line": {
             "colorbar": {
              "outlinewidth": 0,
              "ticks": ""
             }
            },
            "marker": {
             "colorbar": {
              "outlinewidth": 0,
              "ticks": ""
             }
            },
            "type": "scatter3d"
           }
          ],
          "scattercarpet": [
           {
            "marker": {
             "colorbar": {
              "outlinewidth": 0,
              "ticks": ""
             }
            },
            "type": "scattercarpet"
           }
          ],
          "scattergeo": [
           {
            "marker": {
             "colorbar": {
              "outlinewidth": 0,
              "ticks": ""
             }
            },
            "type": "scattergeo"
           }
          ],
          "scattergl": [
           {
            "marker": {
             "colorbar": {
              "outlinewidth": 0,
              "ticks": ""
             }
            },
            "type": "scattergl"
           }
          ],
          "scattermapbox": [
           {
            "marker": {
             "colorbar": {
              "outlinewidth": 0,
              "ticks": ""
             }
            },
            "type": "scattermapbox"
           }
          ],
          "scatterpolar": [
           {
            "marker": {
             "colorbar": {
              "outlinewidth": 0,
              "ticks": ""
             }
            },
            "type": "scatterpolar"
           }
          ],
          "scatterpolargl": [
           {
            "marker": {
             "colorbar": {
              "outlinewidth": 0,
              "ticks": ""
             }
            },
            "type": "scatterpolargl"
           }
          ],
          "scatterternary": [
           {
            "marker": {
             "colorbar": {
              "outlinewidth": 0,
              "ticks": ""
             }
            },
            "type": "scatterternary"
           }
          ],
          "surface": [
           {
            "colorbar": {
             "outlinewidth": 0,
             "ticks": ""
            },
            "colorscale": [
             [
              0,
              "#0d0887"
             ],
             [
              0.1111111111111111,
              "#46039f"
             ],
             [
              0.2222222222222222,
              "#7201a8"
             ],
             [
              0.3333333333333333,
              "#9c179e"
             ],
             [
              0.4444444444444444,
              "#bd3786"
             ],
             [
              0.5555555555555556,
              "#d8576b"
             ],
             [
              0.6666666666666666,
              "#ed7953"
             ],
             [
              0.7777777777777778,
              "#fb9f3a"
             ],
             [
              0.8888888888888888,
              "#fdca26"
             ],
             [
              1,
              "#f0f921"
             ]
            ],
            "type": "surface"
           }
          ],
          "table": [
           {
            "cells": {
             "fill": {
              "color": "#EBF0F8"
             },
             "line": {
              "color": "white"
             }
            },
            "header": {
             "fill": {
              "color": "#C8D4E3"
             },
             "line": {
              "color": "white"
             }
            },
            "type": "table"
           }
          ]
         },
         "layout": {
          "annotationdefaults": {
           "arrowcolor": "#2a3f5f",
           "arrowhead": 0,
           "arrowwidth": 1
          },
          "autotypenumbers": "strict",
          "coloraxis": {
           "colorbar": {
            "outlinewidth": 0,
            "ticks": ""
           }
          },
          "colorscale": {
           "diverging": [
            [
             0,
             "#8e0152"
            ],
            [
             0.1,
             "#c51b7d"
            ],
            [
             0.2,
             "#de77ae"
            ],
            [
             0.3,
             "#f1b6da"
            ],
            [
             0.4,
             "#fde0ef"
            ],
            [
             0.5,
             "#f7f7f7"
            ],
            [
             0.6,
             "#e6f5d0"
            ],
            [
             0.7,
             "#b8e186"
            ],
            [
             0.8,
             "#7fbc41"
            ],
            [
             0.9,
             "#4d9221"
            ],
            [
             1,
             "#276419"
            ]
           ],
           "sequential": [
            [
             0,
             "#0d0887"
            ],
            [
             0.1111111111111111,
             "#46039f"
            ],
            [
             0.2222222222222222,
             "#7201a8"
            ],
            [
             0.3333333333333333,
             "#9c179e"
            ],
            [
             0.4444444444444444,
             "#bd3786"
            ],
            [
             0.5555555555555556,
             "#d8576b"
            ],
            [
             0.6666666666666666,
             "#ed7953"
            ],
            [
             0.7777777777777778,
             "#fb9f3a"
            ],
            [
             0.8888888888888888,
             "#fdca26"
            ],
            [
             1,
             "#f0f921"
            ]
           ],
           "sequentialminus": [
            [
             0,
             "#0d0887"
            ],
            [
             0.1111111111111111,
             "#46039f"
            ],
            [
             0.2222222222222222,
             "#7201a8"
            ],
            [
             0.3333333333333333,
             "#9c179e"
            ],
            [
             0.4444444444444444,
             "#bd3786"
            ],
            [
             0.5555555555555556,
             "#d8576b"
            ],
            [
             0.6666666666666666,
             "#ed7953"
            ],
            [
             0.7777777777777778,
             "#fb9f3a"
            ],
            [
             0.8888888888888888,
             "#fdca26"
            ],
            [
             1,
             "#f0f921"
            ]
           ]
          },
          "colorway": [
           "#636efa",
           "#EF553B",
           "#00cc96",
           "#ab63fa",
           "#FFA15A",
           "#19d3f3",
           "#FF6692",
           "#B6E880",
           "#FF97FF",
           "#FECB52"
          ],
          "font": {
           "color": "#2a3f5f"
          },
          "geo": {
           "bgcolor": "white",
           "lakecolor": "white",
           "landcolor": "#E5ECF6",
           "showlakes": true,
           "showland": true,
           "subunitcolor": "white"
          },
          "hoverlabel": {
           "align": "left"
          },
          "hovermode": "closest",
          "mapbox": {
           "style": "light"
          },
          "paper_bgcolor": "white",
          "plot_bgcolor": "#E5ECF6",
          "polar": {
           "angularaxis": {
            "gridcolor": "white",
            "linecolor": "white",
            "ticks": ""
           },
           "bgcolor": "#E5ECF6",
           "radialaxis": {
            "gridcolor": "white",
            "linecolor": "white",
            "ticks": ""
           }
          },
          "scene": {
           "xaxis": {
            "backgroundcolor": "#E5ECF6",
            "gridcolor": "white",
            "gridwidth": 2,
            "linecolor": "white",
            "showbackground": true,
            "ticks": "",
            "zerolinecolor": "white"
           },
           "yaxis": {
            "backgroundcolor": "#E5ECF6",
            "gridcolor": "white",
            "gridwidth": 2,
            "linecolor": "white",
            "showbackground": true,
            "ticks": "",
            "zerolinecolor": "white"
           },
           "zaxis": {
            "backgroundcolor": "#E5ECF6",
            "gridcolor": "white",
            "gridwidth": 2,
            "linecolor": "white",
            "showbackground": true,
            "ticks": "",
            "zerolinecolor": "white"
           }
          },
          "shapedefaults": {
           "line": {
            "color": "#2a3f5f"
           }
          },
          "ternary": {
           "aaxis": {
            "gridcolor": "white",
            "linecolor": "white",
            "ticks": ""
           },
           "baxis": {
            "gridcolor": "white",
            "linecolor": "white",
            "ticks": ""
           },
           "bgcolor": "#E5ECF6",
           "caxis": {
            "gridcolor": "white",
            "linecolor": "white",
            "ticks": ""
           }
          },
          "title": {
           "x": 0.05
          },
          "xaxis": {
           "automargin": true,
           "gridcolor": "white",
           "linecolor": "white",
           "ticks": "",
           "title": {
            "standoff": 15
           },
           "zerolinecolor": "white",
           "zerolinewidth": 2
          },
          "yaxis": {
           "automargin": true,
           "gridcolor": "white",
           "linecolor": "white",
           "ticks": "",
           "title": {
            "standoff": 15
           },
           "zerolinecolor": "white",
           "zerolinewidth": 2
          }
         }
        },
        "title": {
         "text": "Lift & Gain Chart"
        },
        "width": 800,
        "xaxis": {
         "anchor": "y",
         "domain": [
          0,
          0.45
         ],
         "dtick": 1,
         "tick0": 1,
         "tickmode": "linear",
         "title": {
          "text": "deciles"
         }
        },
        "xaxis2": {
         "anchor": "y2",
         "domain": [
          0.55,
          1
         ],
         "dtick": 1,
         "tick0": 1,
         "tickmode": "linear",
         "title": {
          "text": "deciles"
         }
        },
        "yaxis": {
         "anchor": "x",
         "domain": [
          0,
          1
         ],
         "title": {
          "text": "Lift"
         }
        },
        "yaxis2": {
         "anchor": "x2",
         "domain": [
          0,
          1
         ],
         "title": {
          "text": "Gain"
         }
        }
       }
      }
     },
     "metadata": {},
     "output_type": "display_data"
    }
   ],
   "source": [
    "plot_lift_gain(lift_dict=lift_dict)"
   ]
  },
  {
   "cell_type": "code",
   "execution_count": 28,
   "metadata": {},
   "outputs": [
    {
     "data": {
      "text/plain": [
       "0.9375"
      ]
     },
     "execution_count": 28,
     "metadata": {},
     "output_type": "execute_result"
    }
   ],
   "source": [
    "recall_score(y_val, y_val_pred)"
   ]
  },
  {
   "cell_type": "code",
   "execution_count": 26,
   "metadata": {},
   "outputs": [
    {
     "data": {
      "text/plain": [
       "0.7307692307692307"
      ]
     },
     "execution_count": 26,
     "metadata": {},
     "output_type": "execute_result"
    }
   ],
   "source": [
    "recall_score(y_test, y_test_pred)"
   ]
  }
 ],
 "metadata": {
  "kernelspec": {
   "display_name": "tesla3.9",
   "language": "python",
   "name": "python3"
  },
  "language_info": {
   "codemirror_mode": {
    "name": "ipython",
    "version": 3
   },
   "file_extension": ".py",
   "mimetype": "text/x-python",
   "name": "python",
   "nbconvert_exporter": "python",
   "pygments_lexer": "ipython3",
   "version": "3.9.16"
  },
  "orig_nbformat": 4,
  "vscode": {
   "interpreter": {
    "hash": "4222fe0e9f33991969af43f13173c58040b2a5fc4f33e1eb64d0d65b9cf99adb"
   }
  }
 },
 "nbformat": 4,
 "nbformat_minor": 2
}
